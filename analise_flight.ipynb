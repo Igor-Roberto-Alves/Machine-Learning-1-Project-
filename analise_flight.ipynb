{
 "cells": [
  {
   "cell_type": "markdown",
   "id": "12c8fd65",
   "metadata": {},
   "source": [
    "## Introdução: \n",
    "Apresente o problema e defina claramente os objetivos da sua análise.\n",
    "\n",
    "## Análise Exploratória: \n",
    "Carregue e descreva o dataset. Crie visualizações (histogramas, boxplots, etc.) para entender as variáveis. Investigue correlações (mapas de calor) e planeje o tratamento de dados faltantes e outliers."
   ]
  },
  {
   "cell_type": "code",
   "execution_count": null,
   "id": "b8f01631",
   "metadata": {},
   "outputs": [],
   "source": [
    "# Importando bibliotecas\n",
    "\n",
    "import numpy as np\n",
    "import pandas as pd\n",
    "import altair as alt\n",
    "import vegafusion\n",
    "import seaborn as sns\n",
    "import matplotlib.pyplot as plt\n"
   ]
  },
  {
   "cell_type": "markdown",
   "id": "7c452964",
   "metadata": {},
   "source": [
    "### Importando base de dados (Flight)"
   ]
  },
  {
   "cell_type": "code",
   "execution_count": null,
   "id": "fc1da519",
   "metadata": {},
   "outputs": [],
   "source": [
    "df_flight = pd.read_csv(\"flight.csv\")\n",
    "\n",
    "df_flight.head()"
   ]
  },
  {
   "cell_type": "code",
   "execution_count": null,
   "id": "a8caa8cc",
   "metadata": {},
   "outputs": [],
   "source": [
    "# Removendo a primeira coluna\n",
    "\n",
    "df_flight = df_flight.drop('Unnamed: 0',axis=1)"
   ]
  },
  {
   "cell_type": "code",
   "execution_count": null,
   "id": "019111a4",
   "metadata": {},
   "outputs": [],
   "source": [
    "# Informações\n",
    "df_flight.info()\n",
    "\n",
    "# Verificar valores nulos\n",
    "df_flight.isnull().sum()"
   ]
  },
  {
   "cell_type": "markdown",
   "id": "99269213",
   "metadata": {},
   "source": [
    "## Colunas\n",
    "\n",
    "As colunas existentes no dataset escolhido são:  \n",
    "\n",
    "1. **airline** – Companhia aérea responsável pelo voo.  \n",
    "\n",
    "2. **flight** – Código ou número identificador do voo.  \n",
    "\n",
    "3. **source_city** – Cidade de origem de onde o voo parte.  \n",
    "\n",
    "4. **departure_time** – Faixa de horário da decolagem (por exemplo: manhã, tarde, noite).  \n",
    "\n",
    "5. **stops** – Número de paradas intermediárias (ex: zero, one, two_or_more).  \n",
    "\n",
    "6. **arrival_time** – Faixa de horário de chegada ao destino.  \n",
    "\n",
    "7. **destination_city** – Cidade de destino para onde o voo está indo.  \n",
    "\n",
    "8. **class** – Classe da passagem (por exemplo: Economy, Business).  \n",
    "\n",
    "9. **duration** – Duração total do voo em horas.  \n",
    "\n",
    "10. **days_left** – Quantidade de dias restantes até a data do voo no momento da coleta dos dados.  \n",
    "\n",
    "11. **price** – Preço da passagem aérea.\n"
   ]
  },
  {
   "cell_type": "markdown",
   "id": "5a74e919",
   "metadata": {},
   "source": [
    "## Resumo Estatístico"
   ]
  },
  {
   "cell_type": "markdown",
   "id": "e40f9ba7",
   "metadata": {},
   "source": [
    "### Análise unidimensional"
   ]
  },
  {
   "cell_type": "code",
   "execution_count": null,
   "id": "3656c0ab",
   "metadata": {},
   "outputs": [],
   "source": [
    "df_flight.describe()"
   ]
  },
  {
   "cell_type": "code",
   "execution_count": null,
   "id": "6db4ec82",
   "metadata": {},
   "outputs": [],
   "source": [
    "# Pela quantidade de observações, é necessário desabilitar o máximo de colunas padrão do Altair (5000)\n",
    "\n",
    "alt.data_transformers.disable_max_rows()\n"
   ]
  },
  {
   "cell_type": "markdown",
   "id": "14e30e5d",
   "metadata": {},
   "source": [
    "#### Histogramas"
   ]
  },
  {
   "cell_type": "code",
   "execution_count": null,
   "id": "a13aef38",
   "metadata": {},
   "outputs": [],
   "source": [
    "num_cols = [\"duration\", \"days_left\", \"price\"]\n",
    "\n",
    "charts = [\n",
    "    alt.Chart(df_flight).mark_bar().encode(\n",
    "        alt.X(col, type=\"quantitative\", bin=alt.BinParams(maxbins=15), title=col),\n",
    "        alt.Y(\"count()\", type=\"quantitative\", title=\"Contagem de ocorrências\")\n",
    "    ).properties(width=150, height=150)\n",
    "    for col in num_cols\n",
    "]\n",
    "\n",
    "histogramas_num = alt.hconcat(*charts).properties(\n",
    "    title=\"Distribuição de variáveis numéricas\"\n",
    ")\n",
    "\n",
    "histogramas_num"
   ]
  },
  {
   "cell_type": "code",
   "execution_count": null,
   "id": "cd1a44d3",
   "metadata": {},
   "outputs": [],
   "source": [
    "cat_cols = [\n",
    "    \"airline\", \"source_city\", \"departure_time\", \"stops\",\n",
    "    \"arrival_time\", \"destination_city\", \"class\"\n",
    "]\n",
    "charts_cat = [\n",
    "    alt.Chart(df_flight).mark_bar().encode(\n",
    "        x=alt.X(col, type=\"nominal\", title=col, sort='-y'),\n",
    "        y=alt.Y(\"count()\", type=\"quantitative\", title=\"Contagem de ocorrências\"),\n",
    "        tooltip=[col, \"count()\"]\n",
    "    ).properties(width=150, height=150)\n",
    "    for col in cat_cols\n",
    "]\n",
    "\n",
    "# organiza os gráficos em uma grade\n",
    "histogramas_cat = alt.hconcat(*charts_cat[:4]).resolve_scale(y='independent')\n",
    "if len(cat_cols) > 4:\n",
    "    row2 = alt.hconcat(*charts_cat[4:]).resolve_scale(y='independent')\n",
    "    histogramas_cat = alt.vconcat(histogramas_cat, row2)\n",
    "\n",
    "histogramas_cat = histogramas_cat.properties(\n",
    "    title=\"Distribuição de variáveis categóricas\"\n",
    ")\n",
    "\n",
    "histogramas_cat\n"
   ]
  },
  {
   "cell_type": "markdown",
   "id": "b2e5a01e",
   "metadata": {},
   "source": [
    "#### Boxplots"
   ]
  },
  {
   "cell_type": "code",
   "execution_count": null,
   "id": "071a6648",
   "metadata": {},
   "outputs": [],
   "source": [
    "col_titles = {\n",
    "    \"duration\": \"Duração do voo (horas)\",\n",
    "    \"days_left\": \"Dias restantes até o voo\",\n",
    "    \"price\": \"Preço da passagem (R$)\"\n",
    "}\n",
    "\n",
    "\n",
    "plt.figure(figsize=(15, 4))\n",
    "\n",
    "# cria um boxplot horizontal para cada variável numérica\n",
    "for i, col in enumerate(num_cols):\n",
    "    plt.subplot(1, 3, i+1) \n",
    "    sns.boxplot(x=df_flight[col])  \n",
    "    plt.title(f\"Boxplot de {col_titles[col]}\")\n",
    "    plt.grid(axis=\"x\", linestyle=\"--\", alpha=0.6)\n",
    "\n",
    "plt.tight_layout()\n",
    "plt.show()"
   ]
  }
 ],
 "metadata": {
  "kernelspec": {
   "display_name": "Python 3",
   "language": "python",
   "name": "python3"
  },
  "language_info": {
   "codemirror_mode": {
    "name": "ipython",
    "version": 3
   },
   "file_extension": ".py",
   "mimetype": "text/x-python",
   "name": "python",
   "nbconvert_exporter": "python",
   "pygments_lexer": "ipython3",
   "version": "3.11.4"
  }
 },
 "nbformat": 4,
 "nbformat_minor": 5
}
